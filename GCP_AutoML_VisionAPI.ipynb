{
  "nbformat": 4,
  "nbformat_minor": 0,
  "metadata": {
    "colab": {
      "name": "GCP_AutoML_VisionAPI.ipynb",
      "version": "0.3.2",
      "provenance": [],
      "include_colab_link": true
    },
    "kernelspec": {
      "name": "python3",
      "display_name": "Python 3"
    }
  },
  "cells": [
    {
      "cell_type": "markdown",
      "metadata": {
        "id": "view-in-github",
        "colab_type": "text"
      },
      "source": [
        "<a href=\"https://colab.research.google.com/github/BeverlyHuang/auto_ml/blob/master/GCP_AutoML_VisionAPI.ipynb\" target=\"_parent\"><img src=\"https://colab.research.google.com/assets/colab-badge.svg\" alt=\"Open In Colab\"/></a>"
      ]
    },
    {
      "metadata": {
        "id": "wopFyr55gd9e",
        "colab_type": "text"
      },
      "cell_type": "markdown",
      "source": [
        "#GCP AutoML & GCP Vision API"
      ]
    },
    {
      "metadata": {
        "id": "Ffd4NlyrgVHT",
        "colab_type": "text"
      },
      "cell_type": "markdown",
      "source": [
        "This project aims to explore and apply AutoML and Vision API in Google Cloud Platform for flower classification.\n"
      ]
    },
    {
      "metadata": {
        "id": "ggjuE4es7SDH",
        "colab_type": "text"
      },
      "cell_type": "markdown",
      "source": [
        "# GCP AutoML\n",
        "\n",
        "\n",
        "\n",
        "\n"
      ]
    },
    {
      "metadata": {
        "id": "YJcvzkeSfJRE",
        "colab_type": "text"
      },
      "cell_type": "markdown",
      "source": [
        "##Ingestion"
      ]
    },
    {
      "metadata": {
        "id": "oXKAe9UZfK3z",
        "colab_type": "text"
      },
      "cell_type": "markdown",
      "source": [
        "![upload_data](https://raw.githubusercontent.com/BeverlyHuang/auto_ml/master/ingestion.png)"
      ]
    },
    {
      "metadata": {
        "id": "Paox2u-KSErx",
        "colab_type": "text"
      },
      "cell_type": "markdown",
      "source": [
        "##Exploratory Data Analysis"
      ]
    },
    {
      "metadata": {
        "id": "8FnYdmfqSVxL",
        "colab_type": "text"
      },
      "cell_type": "markdown",
      "source": [
        "![upload_data](https://raw.githubusercontent.com/BeverlyHuang/auto_ml/master/image.png)"
      ]
    },
    {
      "metadata": {
        "id": "RL_DvJVpSISB",
        "colab_type": "text"
      },
      "cell_type": "markdown",
      "source": [
        "##Modeling to recognize flowers"
      ]
    },
    {
      "metadata": {
        "id": "kx8nDRpYSafk",
        "colab_type": "text"
      },
      "cell_type": "markdown",
      "source": [
        "![train](https://raw.githubusercontent.com/BeverlyHuang/auto_ml/master/train1.png)\n",
        "\n",
        "![train](https://raw.githubusercontent.com/BeverlyHuang/auto_ml/master/train2.png)\n",
        "\n",
        "![evaluate](https://raw.githubusercontent.com/BeverlyHuang/auto_ml/master/evaluate2.png)"
      ]
    },
    {
      "metadata": {
        "id": "UqT1QrtOSMPW",
        "colab_type": "text"
      },
      "cell_type": "markdown",
      "source": [
        "##Predicting flowers"
      ]
    },
    {
      "metadata": {
        "id": "MAtZVZgRin7e",
        "colab_type": "text"
      },
      "cell_type": "markdown",
      "source": [
        "![predict](https://raw.githubusercontent.com/BeverlyHuang/auto_ml/master/predict1.png)\n",
        "\n",
        "![predict](https://raw.githubusercontent.com/BeverlyHuang/auto_ml/master/predict2.png)"
      ]
    },
    {
      "metadata": {
        "id": "tho4WI7ikZb0",
        "colab_type": "text"
      },
      "cell_type": "markdown",
      "source": [
        "# GCP Vision API"
      ]
    },
    {
      "metadata": {
        "id": "4kgZxqyLfiAI",
        "colab_type": "text"
      },
      "cell_type": "markdown",
      "source": [
        "##Ingestion"
      ]
    },
    {
      "metadata": {
        "id": "hPWO_zyRopXN",
        "colab_type": "text"
      },
      "cell_type": "markdown",
      "source": [
        "### Load Google Credentials with GDrive\n"
      ]
    },
    {
      "metadata": {
        "id": "XI73HZNLobp4",
        "colab_type": "code",
        "outputId": "e850f2b3-2d96-4cb5-ca91-cc88de6dc6b5",
        "colab": {
          "base_uri": "https://localhost:8080/",
          "height": 122
        }
      },
      "cell_type": "code",
      "source": [
        "from google.colab import drive\n",
        "drive.mount('/content/gdrive', force_remount=True)"
      ],
      "execution_count": 0,
      "outputs": [
        {
          "output_type": "stream",
          "text": [
            "Go to this URL in a browser: https://accounts.google.com/o/oauth2/auth?client_id=947318989803-6bn6qk8qdgf4n4g3pfee6491hc0brc4i.apps.googleusercontent.com&redirect_uri=urn%3Aietf%3Awg%3Aoauth%3A2.0%3Aoob&scope=email%20https%3A%2F%2Fwww.googleapis.com%2Fauth%2Fdocs.test%20https%3A%2F%2Fwww.googleapis.com%2Fauth%2Fdrive%20https%3A%2F%2Fwww.googleapis.com%2Fauth%2Fdrive.photos.readonly%20https%3A%2F%2Fwww.googleapis.com%2Fauth%2Fpeopleapi.readonly&response_type=code\n",
            "\n",
            "Enter your authorization code:\n",
            "··········\n",
            "Mounted at /content/gdrive\n"
          ],
          "name": "stdout"
        }
      ]
    },
    {
      "metadata": {
        "id": "UNyzZwgmoxwm",
        "colab_type": "code",
        "outputId": "e43b7135-2056-48c8-c233-f505d14fd3e7",
        "colab": {
          "base_uri": "https://localhost:8080/",
          "height": 391
        }
      },
      "cell_type": "code",
      "source": [
        "import os;os.listdir(\"/content/gdrive/My Drive\")"
      ],
      "execution_count": 0,
      "outputs": [
        {
          "output_type": "execute_result",
          "data": {
            "text/plain": [
              "['Expense Sheet.gsheet',\n",
              " 'OAR PPT.gslides',\n",
              " 'OAR PPT (1).gslides',\n",
              " 'Homework3_PartB.gdoc',\n",
              " 'Engage3_Practicum_Quarterly_Review.gslides',\n",
              " 'Engage3_Practicum_Quarterly_Review (1).gslides',\n",
              " 'SNP Final Report.gdoc',\n",
              " 'New York & Boston.gsheet',\n",
              " 'Colab Notebooks',\n",
              " 'MKT_Analytics (1).gslides',\n",
              " 'MKT_Analytics.gslides',\n",
              " 'Engage3_Practicum_Camp_Presentation (2).gslides',\n",
              " 'Engage3_Practicum_Camp_Presentation (1).gslides',\n",
              " 'Engage3_Practicum_Camp_Presentation.gslides',\n",
              " '1.gslides',\n",
              " 'pragmaticai-test.gsheet',\n",
              " 'Microsoft Azure.gdoc',\n",
              " 'kaggle.json',\n",
              " 'regal-skyline-216323-c19d1087982b.json',\n",
              " 'My Project-1ebc7b96fbf7.json',\n",
              " 'rose.jpeg',\n",
              " 'sunflower.jpeg']"
            ]
          },
          "metadata": {
            "tags": []
          },
          "execution_count": 24
        }
      ]
    },
    {
      "metadata": {
        "id": "k7LLMTLNuxgI",
        "colab_type": "code",
        "outputId": "f616f88e-0895-48f0-ff8e-ebde46b8af28",
        "colab": {
          "base_uri": "https://localhost:8080/",
          "height": 408
        }
      },
      "cell_type": "code",
      "source": [
        "!ls -la /content/gdrive/My\\ Drive"
      ],
      "execution_count": 0,
      "outputs": [
        {
          "output_type": "stream",
          "text": [
            "total 126\n",
            "-rw------- 1 root root     1 Jan 10 05:17  1.gslides\n",
            "drwx------ 3 root root  4096 Jan  4 21:55 'Colab Notebooks'\n",
            "-rw------- 1 root root     1 Jan 10 05:11 'Engage3_Practicum_Camp_Presentation (1).gslides'\n",
            "-rw------- 1 root root     1 Jan  8 23:30 'Engage3_Practicum_Camp_Presentation (2).gslides'\n",
            "-rw------- 1 root root     1 Jan 10 05:15  Engage3_Practicum_Camp_Presentation.gslides\n",
            "-rw------- 1 root root     1 Nov 30 17:33 'Engage3_Practicum_Quarterly_Review (1).gslides'\n",
            "-rw------- 1 root root     1 Nov 29 21:17  Engage3_Practicum_Quarterly_Review.gslides\n",
            "-rw------- 1 root root     1 Sep  2 04:23 'Expense Sheet.gsheet'\n",
            "-rw------- 1 root root     1 Nov 28 19:22  Homework3_PartB.gdoc\n",
            "-rw------- 1 root root    64 Jan 19 03:54  kaggle.json\n",
            "-rw------- 1 root root     1 Jan 17 03:51 'Microsoft Azure.gdoc'\n",
            "-rw------- 1 root root     1 Jan  6 18:56 'MKT_Analytics (1).gslides'\n",
            "-rw------- 1 root root     1 Jan  8 17:24  MKT_Analytics.gslides\n",
            "-rw------- 1 root root  2328 Feb 26 05:13 'My Project-1ebc7b96fbf7.json'\n",
            "-rw------- 1 root root     1 Dec 25 00:28 'New York & Boston.gsheet'\n",
            "-rw------- 1 root root     1 Nov  2 18:11 'OAR PPT (1).gslides'\n",
            "-rw------- 1 root root     1 Nov  2 16:19 'OAR PPT.gslides'\n",
            "-rw------- 1 root root     1 Jan 12 03:26  pragmaticai-test.gsheet\n",
            "-rw------- 1 root root  2351 Feb 23 19:44  regal-skyline-216323-c19d1087982b.json\n",
            "-rw------- 1 root root 57528 Feb 26 05:18  rose.jpeg\n",
            "-rw------- 1 root root     1 Dec  1 21:46 'SNP Final Report.gdoc'\n",
            "-rw------- 1 root root 52723 Feb 26 05:36  sunflower.jpeg\n"
          ],
          "name": "stdout"
        }
      ]
    },
    {
      "metadata": {
        "id": "w2f1xHUMwCJT",
        "colab_type": "text"
      },
      "cell_type": "markdown",
      "source": [
        "###Install Cloud Vision API"
      ]
    },
    {
      "metadata": {
        "id": "sRlg-4kPk1Wl",
        "colab_type": "code",
        "outputId": "63dc9c21-f66c-4e54-92a6-d51b4b2d57df",
        "colab": {
          "base_uri": "https://localhost:8080/",
          "height": 34
        }
      },
      "cell_type": "code",
      "source": [
        "!export GOOGLE_APPLICATION_CREDENTIALS=\"/content/gdrive/My Drive/My Project-1ebc7b96fbf7.json\"\n",
        "!gcloud auth activate-service-account --key-file /content/gdrive/My\\ Drive/My\\ Project-1ebc7b96fbf7.json\n",
        "!pip install --upgrade -q google-cloud-vision"
      ],
      "execution_count": 0,
      "outputs": [
        {
          "output_type": "stream",
          "text": [
            "Activated service account credentials for: [bev-account@prime-well-232303.iam.gserviceaccount.com]\n"
          ],
          "name": "stdout"
        }
      ]
    },
    {
      "metadata": {
        "id": "tk5nAz56fs7Q",
        "colab_type": "text"
      },
      "cell_type": "markdown",
      "source": [
        "##Modeling and Prediction"
      ]
    },
    {
      "metadata": {
        "id": "c4hiqSfkTGz7",
        "colab_type": "text"
      },
      "cell_type": "markdown",
      "source": [
        "###Label on the Picture"
      ]
    },
    {
      "metadata": {
        "id": "oIJgeisov5kb",
        "colab_type": "code",
        "outputId": "ea654460-9cdb-4d83-b9e0-06459d34361f",
        "colab": {
          "base_uri": "https://localhost:8080/",
          "height": 204
        }
      },
      "cell_type": "code",
      "source": [
        "import io\n",
        "import os\n",
        "\n",
        "os.environ[\"GOOGLE_APPLICATION_CREDENTIALS\"]=\"/content/gdrive/My Drive/My Project-1ebc7b96fbf7.json\"\n",
        "\n",
        "# Imports the Google Cloud client library\n",
        "from google.cloud import vision\n",
        "from google.cloud.vision import types\n",
        "\n",
        "# Instantiates a client\n",
        "client = vision.ImageAnnotatorClient()\n",
        "\n",
        "# The name of the image file to annotate\n",
        "file_name = '/content/gdrive/My Drive/rose.jpeg'\n",
        "\n",
        "# Loads the image into memory\n",
        "with io.open(file_name, 'rb') as image_file:\n",
        "    content = image_file.read()\n",
        "\n",
        "image = types.Image(content=content)\n",
        "\n",
        "# Performs label detection on the image file\n",
        "response = client.label_detection(image=image)\n",
        "labels = response.label_annotations\n",
        "\n",
        "print('Labels:')\n",
        "for label in labels:\n",
        "    print(label.description)"
      ],
      "execution_count": 0,
      "outputs": [
        {
          "output_type": "stream",
          "text": [
            "Labels:\n",
            "Flower\n",
            "Garden roses\n",
            "Rose\n",
            "Red\n",
            "Petal\n",
            "Rose family\n",
            "Cut flowers\n",
            "Floribunda\n",
            "Plant\n",
            "Flowering plant\n"
          ],
          "name": "stdout"
        }
      ]
    },
    {
      "metadata": {
        "id": "IIHD7QYDTaig",
        "colab_type": "code",
        "outputId": "60b0ba14-f3af-4f67-d770-620fd2eb59dc",
        "colab": {
          "base_uri": "https://localhost:8080/",
          "height": 204
        }
      },
      "cell_type": "code",
      "source": [
        "# The name of the image file to annotate\n",
        "file_name = '/content/gdrive/My Drive/sunflower.jpeg'\n",
        "\n",
        "# Loads the image into memory\n",
        "with io.open(file_name, 'rb') as image_file:\n",
        "    content = image_file.read()\n",
        "\n",
        "image = types.Image(content=content)\n",
        "\n",
        "# Performs label detection on the image file\n",
        "response = client.label_detection(image=image)\n",
        "labels = response.label_annotations\n",
        "\n",
        "print('Labels:')\n",
        "for label in labels:\n",
        "    print(label.description)"
      ],
      "execution_count": 0,
      "outputs": [
        {
          "output_type": "stream",
          "text": [
            "Labels:\n",
            "Flower\n",
            "Sunflower\n",
            "Flowering plant\n",
            "Plant\n",
            "Yellow\n",
            "sunflower\n",
            "Petal\n",
            "Pollen\n",
            "Sunflower seed\n",
            "Cuisine\n"
          ],
          "name": "stdout"
        }
      ]
    },
    {
      "metadata": {
        "id": "Itk8torrTt7s",
        "colab_type": "text"
      },
      "cell_type": "markdown",
      "source": [
        "#Conclusion"
      ]
    },
    {
      "metadata": {
        "id": "Oc3tvGTCTv8C",
        "colab_type": "text"
      },
      "cell_type": "markdown",
      "source": [
        "This project uses AutoML and Vision API to predict the labels for flowers based on flower images. Compared with sklearn machine learning algorithms, AutoML and Vision API are much more efficient and user-friendly. AutoML detects custom labels and categories from user-trained image models, while Vision API detects board objects and scenes from images. This label detection makes image searchable across board topics and scenes. Thus, AutoML is wrapped in the Vision API layer, and Vision API is a more abstract layer of AutoML.\n",
        "\n"
      ]
    }
  ]
}